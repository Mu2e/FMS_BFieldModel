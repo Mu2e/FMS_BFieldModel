{
 "cells": [
  {
   "cell_type": "code",
   "execution_count": null,
   "metadata": {},
   "outputs": [],
   "source": [
    "from mu2e import mu2e_ext_path\n",
    "import pandas as pd\n",
    "from mu2e.mu2eplots import mu2e_plot3d_ptrap\n",
    "from mu2e.mu2eplots import mu2e_plot3d_ptrap_anim\n",
    "import cPickle as pkl\n",
    "%matplotlib inline\n",
    "plt.rcParams['figure.figsize'] = (12,8)"
   ]
  },
  {
   "cell_type": "code",
   "execution_count": null,
   "metadata": {},
   "outputs": [],
   "source": [
    "#store = pd.HDFStore(mu2e_ext_path+'datafiles/G4ParticleSim/z13k_muons_extmat_GA05.h5')\n",
    "store = pd.HDFStore(mu2e_ext_path+'datafiles/G4ParticleSim/iso_muons_GA05_stage2_vd.h5')\n",
    "df_nttvd = store.df_nttvd\n",
    "df_ntpart = store.df_ntpart\n",
    "store.close()\n",
    "store_xray = pd.HDFStore(mu2e_ext_path+'datafiles/G4ParticleSim/low_e_ele_0T_v580.h5')\n",
    "df_xray = store_xray.df_ntpart\n",
    "store_xray.close()\n",
    "#store2 = pd.HDFStore(mu2e_ext_path+'datafiles/G4ParticleSim/z13k_muons_nomat_GA05.h5')\n",
    "#df_nttvd2 = store2.df_nttvd\n",
    "#df_ntpart2 = store2.df_ntpart\n",
    "#store2.close()"
   ]
  },
  {
   "cell_type": "code",
   "execution_count": null,
   "metadata": {},
   "outputs": [],
   "source": [
    "len(df_ntpart.query('xstop<1000 and tstop>9999 and sqrt(xstop*xstop+ystop*ystop)<900 and 4000<zstop<14000 and pdg==13 and pstop>90'))"
   ]
  },
  {
   "cell_type": "code",
   "execution_count": null,
   "metadata": {},
   "outputs": [],
   "source": [
    "mu2e_plot3d_ptrap(df_ntpart2.query('xstop<1000 and tstop>9999 and sqrt(xstop*xstop+ystop*ystop)<900 and 7000<zstop<14000 and pdg==13 and pstop>75').reset_index().ix[0:10000],\n",
    "                  'zstop','xstop','ystop', x_range=[3700,17500], y_range = [-1000,1000], z_range=[-1000,1000],\n",
    "                  mode='plotly_nb', df_xray=df_xray, color='pstop', title='Particle Trapping GA05')"
   ]
  },
  {
   "cell_type": "code",
   "execution_count": null,
   "metadata": {},
   "outputs": [],
   "source": [
    "mu2e_plot3d_ptrap(df_ntpart.query('pdg==13 and time>700').reset_index(),\n",
    "                  'z','x','y', x_range=[3700,17500], y_range = [-1000,1000], z_range=[-1000,1000], save_name=None,\n",
    "                   df_xray=df_xray, color='p', title='Particle Trapping GA05')"
   ]
  },
  {
   "cell_type": "code",
   "execution_count": null,
   "metadata": {},
   "outputs": [],
   "source": [
    "df_ntpart"
   ]
  },
  {
   "cell_type": "code",
   "execution_count": null,
   "metadata": {},
   "outputs": [],
   "source": [
    "df_ntpart.query('runevt==25456')"
   ]
  },
  {
   "cell_type": "code",
   "execution_count": null,
   "metadata": {},
   "outputs": [],
   "source": [
    "df_nttvd_oldest = df_nttvd[(df_nttvd.runevt.isin(df_nttvd[df_nttvd.sid==df_nttvd.query('pdg==13').sid.max()].runevt))&(df_nttvd.pdg==13.0)].reset_index().ix[0:30000]\n",
    "#df_nttvd_oldest2 = df_nttvd2[(df_nttvd2.runevt.isin(df_nttvd2[df_nttvd2.sid==df_nttvd2.sid.max()].runevt))&(df_nttvd2.pdg==13.0)].reset_index().ix[0:30000]\n",
    "\n",
    "df_nttvd_normal = df_nttvd[(~df_nttvd.runevt.isin(df_nttvd_oldest.runevt))&(df_nttvd.z>5000)&(df_nttvd.pdg==13.0)].sort_values(['runevt','sid']).reset_index().ix[0:30000]"
   ]
  },
  {
   "cell_type": "code",
   "execution_count": null,
   "metadata": {},
   "outputs": [],
   "source": [
    "df_nttvd_ele = df_nttvd.query('pdg==11')\n",
    "df_nttvd_ele.name='Electrons'\n",
    "df_nttvd_mu = df_nttvd.query('pdg==13 and p>75')\n",
    "df_nttvd_mu.name='Muons'"
   ]
  },
  {
   "cell_type": "code",
   "execution_count": null,
   "metadata": {},
   "outputs": [],
   "source": [
    "df_nttvd_normal.name='Normal Muons'\n",
    "df_nttvd_oldest.name='Long-lived Muons'\n",
    "#df_nttvd_oldest.name='Muons GA04'\n",
    "#df_nttvd_oldest2.name='Muons GA05'"
   ]
  },
  {
   "cell_type": "code",
   "execution_count": null,
   "metadata": {},
   "outputs": [],
   "source": [
    "g, fig = mu2e_plot3d_ptrap_anim(df_nttvd_ele,'z','x','y',df_xray, df_group2=df_nttvd_mu,\n",
    "                                 color=True,title='Electrons from trapped muons')"
   ]
  },
  {
   "cell_type": "code",
   "execution_count": null,
   "metadata": {},
   "outputs": [],
   "source": [
    "g.plot(fig)"
   ]
  },
  {
   "cell_type": "code",
   "execution_count": null,
   "metadata": {},
   "outputs": [],
   "source": [
    "g.save(filename='no_material_GA_comp')"
   ]
  },
  {
   "cell_type": "code",
   "execution_count": null,
   "metadata": {},
   "outputs": [],
   "source": [
    "%matplotlib inline\n",
    "plt.rcParams['figure.figsize'] = (12,8)\n",
    "df_nttvd_oldest.z.hist(bins=40)"
   ]
  },
  {
   "cell_type": "code",
   "execution_count": null,
   "metadata": {},
   "outputs": [],
   "source": [
    "df_nttvd_normal[df_nttvd_normal.sid==1].pz.hist(bins=40)"
   ]
  },
  {
   "cell_type": "code",
   "execution_count": null,
   "metadata": {},
   "outputs": [],
   "source": [
    "sort(df_nttvd_normal.p.unique())"
   ]
  },
  {
   "cell_type": "code",
   "execution_count": null,
   "metadata": {},
   "outputs": [],
   "source": [
    "sqrt(56.191128**2+92.163254**2+0.036695**2)"
   ]
  },
  {
   "cell_type": "code",
   "execution_count": null,
   "metadata": {},
   "outputs": [],
   "source": [
    "df_ntpart.p.hist(bins=50)\n",
    "plt.xlabel('Momentum (MeV)')\n",
    "plt.ylabel('Count')\n",
    "plt.title('Initial Muon Momentum for `ntpart` tree')"
   ]
  },
  {
   "cell_type": "code",
   "execution_count": null,
   "metadata": {},
   "outputs": [],
   "source": [
    "g.save?"
   ]
  },
  {
   "cell_type": "code",
   "execution_count": null,
   "metadata": {},
   "outputs": [],
   "source": [
    "df_nttvd.query('pdg==13').sid.max()"
   ]
  },
  {
   "cell_type": "code",
   "execution_count": null,
   "metadata": {},
   "outputs": [],
   "source": [
    "from mu2e.dataframeprod import g4root_to_df\n",
    "g4root_to_df(mu2e_ext_path+'datafiles/G4ParticleSim/low_e_ele_0T_v580',True,True)"
   ]
  },
  {
   "cell_type": "code",
   "execution_count": null,
   "metadata": {},
   "outputs": [],
   "source": [
    "df_ntpart[df_ntpart.evt==25456]"
   ]
  },
  {
   "cell_type": "code",
   "execution_count": null,
   "metadata": {},
   "outputs": [],
   "source": []
  }
 ],
 "metadata": {
  "kernelspec": {
   "display_name": "Python 3",
   "language": "python",
   "name": "python3"
  },
  "language_info": {
   "codemirror_mode": {
    "name": "ipython",
    "version": 3
   },
   "file_extension": ".py",
   "mimetype": "text/x-python",
   "name": "python",
   "nbconvert_exporter": "python",
   "pygments_lexer": "ipython3",
   "version": "3.6.2"
  }
 },
 "nbformat": 4,
 "nbformat_minor": 1
}
