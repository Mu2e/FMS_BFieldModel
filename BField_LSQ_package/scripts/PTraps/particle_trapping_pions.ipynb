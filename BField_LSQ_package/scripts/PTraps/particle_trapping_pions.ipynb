{
 "cells": [
  {
   "cell_type": "code",
   "execution_count": null,
   "metadata": {},
   "outputs": [],
   "source": [
    "from mu2e import mu2e_ext_path\n",
    "from mu2e.dataframeprod import g4root_to_df\n",
    "from root_pandas import read_root\n",
    "import pandas as pd\n",
    "from mu2e.mu2eplots import mu2e_plot3d_ptrap\n",
    "from mu2e.mu2eplots import mu2e_plot3d_ptrap_traj\n",
    "from mu2e.mu2eplots import mu2e_plot3d_ptrap_anim\n",
    "import mu2e.mu2eplots as mplt\n",
    "import six.moves.cPickle as pkl\n",
    "%matplotlib inline\n",
    "plt.rcParams['figure.figsize'] = (12,8)\n",
    "mu2e_data_path = '/Volumes/DataDump/Mu2E/'\n",
    "from skhep.visual import MplPlotter as splt\n",
    "from matplotlib.colors import LogNorm\n",
    "pd.set_option(\"display.max_columns\",50)"
   ]
  },
  {
   "cell_type": "code",
   "execution_count": null,
   "metadata": {},
   "outputs": [],
   "source": [
    "# Get pions, make a subset df of matching pions and muons\n",
    "\n",
    "df_ntpart, df_nttvd, _ = g4root_to_df(mu2e_data_path+'pion-st-Mau13/run2/nts.bpollack.pions_Mau13_stage1_vd.v653.combined',\n",
    "do_basic_modifications=True, trees=['part', 'tvd'])\n",
    "df_ntpart.set_index(['run', 'subrun', 'evt'], inplace=True)\n",
    "\n",
    "# df_mu_and_pi = df_ntpart.loc[df_ntpart.query('pdg==-211').index]\n",
    "# df_mu_and_pi = df_mu_and_pi.loc[df_mu_and_pi.query('pdg==13').index]"
   ]
  },
  {
   "cell_type": "code",
   "execution_count": null,
   "metadata": {},
   "outputs": [],
   "source": [
    "df_ntpart.query('11500<z<11800 and 11500<zstop<11800')"
   ]
  },
  {
   "cell_type": "code",
   "execution_count": null,
   "metadata": {},
   "outputs": [],
   "source": [
    "df_ntpart.describe()"
   ]
  },
  {
   "cell_type": "code",
   "execution_count": null,
   "metadata": {},
   "outputs": [],
   "source": [
    "store_xray = pd.HDFStore(mu2e_data_path+'G4ParticleSim/low_e_ele_0T_v580.h5')\n",
    "df_xray = store_xray.df_ntpart\n",
    "store_xray.close()"
   ]
  },
  {
   "cell_type": "code",
   "execution_count": null,
   "metadata": {},
   "outputs": [],
   "source": [
    "mu2e_plot3d_ptrap(df_ntpart,\n",
    "                  'zstop','xstop','ystop', x_range=[3700,17500], y_range = [-1000,1000], z_range=[-1000,1000], save_name=None,\n",
    "                   df_xray=df_xray, color='pstop', title='Muon position at event termination')"
   ]
  },
  {
   "cell_type": "code",
   "execution_count": null,
   "metadata": {},
   "outputs": [],
   "source": [
    "df_mu_single = df_nttvd.query('subrun==1404 and evt==303561 and pdg==13').sort_values('time')\n",
    "df_mu_single.name = 'Muon'\n",
    "df_pi_single = df_nttvd.query('subrun==1404 and evt==303561 and pdg<0').sort_values('time')\n",
    "df_pi_single.name = 'Pion'"
   ]
  },
  {
   "cell_type": "code",
   "execution_count": null,
   "metadata": {},
   "outputs": [],
   "source": [
    "df_mu_single"
   ]
  },
  {
   "cell_type": "code",
   "execution_count": null,
   "metadata": {},
   "outputs": [],
   "source": [
    "mu2e_plot3d_ptrap_traj([df_pi_single, df_mu_single],'z','x','y',df_xray=df_xray,\n",
    "                        title='Bad Pion Adventure', aspect='default')"
   ]
  },
  {
   "cell_type": "code",
   "execution_count": null,
   "metadata": {},
   "outputs": [],
   "source": [
    "_ = splt.hist(df_nttvd.query('pdg==13 and p>75').time, bins='doane')\n",
    "plt.title('Muons with p>75 over time')\n",
    "plt.xlabel('time (ns)')"
   ]
  },
  {
   "cell_type": "code",
   "execution_count": null,
   "metadata": {},
   "outputs": [],
   "source": [
    "splt.hist(df_ntpart.parent_p)"
   ]
  },
  {
   "cell_type": "code",
   "execution_count": null,
   "metadata": {},
   "outputs": [],
   "source": [
    "splt.hist(df_ntpart.p)"
   ]
  },
  {
   "cell_type": "markdown",
   "metadata": {},
   "source": [
    "# Observations"
   ]
  },
  {
   "cell_type": "markdown",
   "metadata": {},
   "source": [
    "40m Pions Generated, 52-80 MeV mom\n",
    "\n",
    "    1) Low Z region: Around the OPA.\n",
    "        a) Primary Ring at Z=~5000\n",
    "        b) Secondary Ring at Z=~5660\n",
    "        c) Tertiary Ring? at Z=~6300\n",
    "    2) Tracker section:\n",
    "        a) Primary Group at 9200<Z<11000\n",
    "        b) Secondary Group at Z=~11700\n",
    "    3) Calo section:\n",
    "        a) Single group at Z=~13000"
   ]
  },
  {
   "cell_type": "code",
   "execution_count": null,
   "metadata": {},
   "outputs": [],
   "source": [
    "_ = splt.hist(df_ntpart.parent_pz.values, bins=50, label='Pz')\n",
    "plt.legend()\n",
    "plt.title('Initial Pion Pz')\n",
    "plt.xlabel('Momentum (MeV)')\n",
    "plt.ylabel('Count')\n"
   ]
  },
  {
   "cell_type": "code",
   "execution_count": null,
   "metadata": {},
   "outputs": [],
   "source": [
    "_ = splt.hist(df_ntpart.parent_p.values, bins=50, label='P')\n",
    "plt.legend()\n",
    "plt.title('Initial Pion Momemtum')\n",
    "plt.xlabel('Momentum (MeV)')\n",
    "plt.ylabel('Count')"
   ]
  },
  {
   "cell_type": "code",
   "execution_count": null,
   "metadata": {},
   "outputs": [],
   "source": [
    "plt.hist2d(df_pions.px.values, df_pions.py.values, bins=50)\n",
    "plt.xlabel('Px (MeV)')\n",
    "plt.ylabel('Py (MeV)')\n",
    "plt.title('Pion Initial Momentum, X and Y')\n",
    "plt.colorbar()"
   ]
  },
  {
   "cell_type": "code",
   "execution_count": null,
   "metadata": {},
   "outputs": [],
   "source": [
    "_ = splt.hist(df_pions.zstop.values, bins=50, log=True)\n",
    "plt.title('Pion Death Location')\n",
    "plt.xlabel('Z (mm)')\n",
    "plt.ylabel('Count')"
   ]
  },
  {
   "cell_type": "code",
   "execution_count": null,
   "metadata": {},
   "outputs": [],
   "source": [
    "_ = splt.hist(df_pions.tstop.values, bins=50, log=True)\n",
    "plt.title('Pion Lifetime')\n",
    "plt.xlabel('t (ns)')\n",
    "plt.ylabel('Count')"
   ]
  },
  {
   "cell_type": "code",
   "execution_count": null,
   "metadata": {},
   "outputs": [],
   "source": [
    "_ = splt.hist(df_pions.pstop.values, bins=50, log=True)\n",
    "plt.title('Pion Death Momentum')\n",
    "plt.xlabel('P (MeV)')\n",
    "plt.ylabel('Count')"
   ]
  },
  {
   "cell_type": "code",
   "execution_count": null,
   "metadata": {},
   "outputs": [],
   "source": [
    "_ = splt.hist(df_pions.pzstop.values, bins=50, log=True)\n",
    "plt.title('Pion Death Pz')\n",
    "plt.xlabel('Pz (MeV)')\n",
    "plt.ylabel('Count')"
   ]
  },
  {
   "cell_type": "code",
   "execution_count": null,
   "metadata": {},
   "outputs": [],
   "source": [
    "_ = splt.hist(df_pions.pzstop.values-df_pions.pz.values, bins=50, log=True)\n",
    "plt.title('Pion dPz (final-init)')\n",
    "plt.xlabel('Pz (MeV)')\n",
    "plt.ylabel('Count')"
   ]
  },
  {
   "cell_type": "code",
   "execution_count": null,
   "metadata": {},
   "outputs": [],
   "source": [
    "_ = plt.hist2d(df_ntpart.z.values,df_ntpart.parent_pstop.values, bins=50, norm=LogNorm())\n",
    "plt.title('Pion Death Z v Momentum')\n",
    "plt.xlabel('Z (mm)')\n",
    "plt.ylabel('P (MeV)')\n",
    "plt.colorbar()"
   ]
  },
  {
   "cell_type": "code",
   "execution_count": null,
   "metadata": {},
   "outputs": [],
   "source": [
    "df_mu = df_ntpart.query('pdg==13')"
   ]
  },
  {
   "cell_type": "code",
   "execution_count": null,
   "metadata": {},
   "outputs": [],
   "source": [
    "_ = splt.hist(df_ntpart.p.values, bins=50, log=True, color='C1')\n",
    "plt.title('Muon Birth Momentum')\n",
    "plt.xlabel('P (MeV)')\n",
    "plt.ylabel('Count')"
   ]
  },
  {
   "cell_type": "code",
   "execution_count": null,
   "metadata": {},
   "outputs": [],
   "source": [
    "_ = splt.hist(df_ntpart.pstop.values, bins=50, log=True, color='C1')\n",
    "plt.title('Muon Final Momentum (t<=700 ns)')\n",
    "plt.xlabel('P (MeV)')\n",
    "plt.ylabel('Count')"
   ]
  },
  {
   "cell_type": "code",
   "execution_count": null,
   "metadata": {},
   "outputs": [],
   "source": [
    "_ = splt.hist(df_ntpart.tstop.values, bins=50, log=True, color='C1')\n",
    "plt.title('Muon Death Time (t<=700 ns)')\n",
    "plt.xlabel('t (ns)')\n",
    "plt.ylabel('Count')"
   ]
  },
  {
   "cell_type": "code",
   "execution_count": null,
   "metadata": {},
   "outputs": [],
   "source": [
    "_ = splt.hist(df_mu.z.values, bins=50, log=True, color='C1')\n",
    "plt.title('Muon Birth Location')\n",
    "plt.xlabel('Z (mm)')\n",
    "plt.ylabel('Count')"
   ]
  },
  {
   "cell_type": "code",
   "execution_count": null,
   "metadata": {},
   "outputs": [],
   "source": [
    "plt.hist2d(df_ntpart.z.values, df_ntpart.p.values, bins=50, norm=LogNorm())\n",
    "plt.title('Muon Birth Location v Momentum')\n",
    "plt.xlabel('Z (mm)')\n",
    "plt.ylabel('P (MeV)')\n",
    "plt.colorbar()"
   ]
  },
  {
   "cell_type": "code",
   "execution_count": null,
   "metadata": {},
   "outputs": [],
   "source": [
    "df_mu_bad = df_ntpart.query('9600<z<13300 and p>75')"
   ]
  },
  {
   "cell_type": "code",
   "execution_count": null,
   "metadata": {},
   "outputs": [],
   "source": [
    "df_mu_bad"
   ]
  },
  {
   "cell_type": "code",
   "execution_count": null,
   "metadata": {},
   "outputs": [],
   "source": [
    "df_mu_bad_narrow = df_mu_bad[(df_mu_bad.pz<10)&(df_mu_bad.pz>-10)]"
   ]
  },
  {
   "cell_type": "code",
   "execution_count": null,
   "metadata": {},
   "outputs": [],
   "source": [
    "_ = splt.hist(df_mu_bad_narrow.p.values, bins=50, histtype='step', label='P (Muon)', range=(70,120), normed=True)\n",
    "_ = splt.hist(df_mu_bad_narrow.parent_p.values, bins=50, histtype='step', label='P (Pion)', range=(70,120), normed=True)\n",
    "plt.title('Bad Particle Momenum')\n",
    "plt.xlabel('P (MeV)')\n",
    "plt.ylabel('Count')\n",
    "plt.legend()"
   ]
  },
  {
   "cell_type": "code",
   "execution_count": null,
   "metadata": {},
   "outputs": [],
   "source": [
    "_ = splt.hist(df_mu_bad.pz.values, bins=50, log=True, histtype='step', label='Pz', range=(-120,120))\n",
    "_ = splt.hist(df_mu_bad.px.values, bins=50, log=True, histtype='step', label='Px', range=(-120,120))\n",
    "_ = splt.hist(df_mu_bad.py.values, bins=50, log=True, histtype='step', label='Py', range=(-120,120))\n",
    "_ = splt.hist(df_mu_bad.p.values, bins=50, log=True, histtype='step', label='P', range=(-120,120))\n",
    "plt.title('Bad? Muon Momenum')\n",
    "plt.xlabel('P (MeV)')\n",
    "plt.ylabel('Count')\n",
    "plt.legend()"
   ]
  },
  {
   "cell_type": "code",
   "execution_count": null,
   "metadata": {},
   "outputs": [],
   "source": [
    "_ = splt.hist(df_mu_bad.parent_pz.values, bins=50, log=True, histtype='step', label='Pz', range=(-120,120))\n",
    "_ = splt.hist(df_mu_bad.parent_px.values, bins=50, log=True, histtype='step', label='Px', range=(-120,120))\n",
    "_ = splt.hist(df_mu_bad.parent_py.values, bins=50, log=True, histtype='step', label='Py', range=(-120,120))\n",
    "plt.title('Bad? Pion Momenum 1')\n",
    "plt.xlabel('P (MeV)')\n",
    "plt.ylabel('Count')\n",
    "plt.legend()"
   ]
  },
  {
   "cell_type": "code",
   "execution_count": null,
   "metadata": {},
   "outputs": [],
   "source": [
    "_ = splt.hist(df_mu_bad[(df_mu_bad.pz<10)&(df_mu_bad.pz>-10)].parent_pz.values, bins=50,  histtype='step', label='Pz', range=(-120,120))\n",
    "_ = splt.hist(df_mu_bad[(df_mu_bad.pz<10)&(df_mu_bad.pz>-10)].parent_px.values, bins=50,  histtype='step', label='Px', range=(-120,120))\n",
    "_ = splt.hist(df_mu_bad[(df_mu_bad.pz<10)&(df_mu_bad.pz>-10)].parent_py.values, bins=50,  histtype='step', label='Py', range=(-120,120))\n",
    "#_ = splt.hist(df_mu_bad[(df_mu_bad.pz<10)&(df_mu_bad.pz>-10)].parent_p.values, bins=50, histtype='step', label='P', range=(-120,120))\n",
    "plt.title('Bad? Pion Momenum (narrow muon pz)')\n",
    "plt.xlabel('P (MeV)')\n",
    "plt.ylabel('Count')\n",
    "plt.legend()"
   ]
  },
  {
   "cell_type": "code",
   "execution_count": null,
   "metadata": {},
   "outputs": [],
   "source": [
    "plt.hist2d(df_mu_bad.pz.values, df_mu_bad.parent_pz.values, bins=50, norm=LogNorm())\n",
    "plt.title('Muon Birth Pz vs Pion Init Pz')\n",
    "plt.xlabel('Pz Muon (MeV)')\n",
    "plt.ylabel('Pz Pion (MeV)')\n",
    "plt.colorbar()"
   ]
  },
  {
   "cell_type": "code",
   "execution_count": null,
   "metadata": {},
   "outputs": [],
   "source": [
    "_ = splt.hist(df_mu_bad[(df_mu_bad.pz<10)&(df_mu_bad.pz>-10)].parent_pz.values, bins=5)\n",
    "plt.title('Pion Init Pz leading to minimal Muon Pz')\n",
    "plt.xlabel('Pz Pion (MeV)')\n",
    "plt.ylabel('Count')"
   ]
  },
  {
   "cell_type": "code",
   "execution_count": null,
   "metadata": {},
   "outputs": [],
   "source": [
    "_ = splt.hist(df_mu_bad[(df_mu_bad.pz<10)&(df_mu_bad.pz>-10)].parent_pzstop.values, bins=5)\n",
    "plt.title('Pion Death Pz leading to minimal Muon Pz')\n",
    "plt.xlabel('Pz Pion (MeV)')\n",
    "plt.ylabel('Count')"
   ]
  },
  {
   "cell_type": "code",
   "execution_count": null,
   "metadata": {},
   "outputs": [],
   "source": [
    "plt.hist2d(df_mu.pz.values, df_mu.parent_pzstop.values, bins=50, norm=LogNorm())\n",
    "plt.title('Muon Birth Pz vs Pion Final Pz')\n",
    "plt.xlabel('Pz Muon (MeV)')\n",
    "plt.ylabel('Pz Pion (MeV)')\n",
    "plt.colorbar()"
   ]
  },
  {
   "cell_type": "code",
   "execution_count": null,
   "metadata": {},
   "outputs": [],
   "source": [
    "plt.hist2d(df_mu.p.values, df_mu.parent_pstop.values, bins=50, norm=LogNorm())\n",
    "plt.title('Muon Birth P vs Pion Final P')\n",
    "plt.xlabel('P Muon (MeV)')\n",
    "plt.ylabel('P Pion (MeV)')\n",
    "plt.colorbar()"
   ]
  },
  {
   "cell_type": "code",
   "execution_count": null,
   "metadata": {},
   "outputs": [],
   "source": [
    "plt.hist2d(df_ntpart.p.values, df_ntpart.pz.values, bins=50, norm=LogNorm())\n",
    "plt.title('Muon Birth P vs Muon Birth Pz')\n",
    "plt.xlabel('P Muon (MeV)')\n",
    "plt.ylabel('Pz Muon (MeV)')\n",
    "plt.colorbar()"
   ]
  },
  {
   "cell_type": "code",
   "execution_count": null,
   "metadata": {},
   "outputs": [],
   "source": [
    "df_mu_bad = df_ntpart.query('tstop>600')"
   ]
  },
  {
   "cell_type": "code",
   "execution_count": null,
   "metadata": {},
   "outputs": [],
   "source": [
    "df_mu_bad['pr'] = df_mu_bad['px']*np.cos(np.arctan2(df_mu_bad['y'], df_mu_bad['x']))+df_mu_bad['py']*np.sin(np.arctan2(df_mu_bad['y'], df_mu_bad['x']))\n",
    "df_mu_bad['prstop'] = df_mu_bad['pxstop']*np.cos(np.arctan2(df_mu_bad['ystop'], df_mu_bad['xstop']))+df_mu_bad['pystop']*np.sin(np.arctan2(df_mu_bad['ystop'], df_mu_bad['xstop']))\n",
    "df_mu_bad['parent_pr'] = df_mu_bad['parent_px']*np.cos(np.arctan2(df_mu_bad['parent_y'], df_mu_bad['parent_x']))+df_mu_bad['parent_py']*np.sin(np.arctan2(df_mu_bad['parent_y'], df_mu_bad['parent_x']))\n",
    "df_mu_bad['parent_prstop'] = df_mu_bad['parent_pxstop']*np.cos(np.arctan2(df_mu_bad['y'], df_mu_bad['x']))+df_mu_bad['parent_pystop']*np.sin(np.arctan2(df_mu_bad['y'], df_mu_bad['x']))\n"
   ]
  },
  {
   "cell_type": "code",
   "execution_count": null,
   "metadata": {},
   "outputs": [],
   "source": [
    "_ = splt.hist(df_mu_bad.parent_p.values, bins=50)\n",
    "plt.title('Bad Pion Inital Momentum')\n",
    "plt.xlabel('P (MeV)')\n",
    "plt.ylabel('Count')\n",
    "plt.show()\n",
    "\n",
    "_ = splt.hist(df_mu_bad.parent_pz.values, bins=50, histtype='step', label='Pz', range=(-120,120))\n",
    "_ = splt.hist(df_mu_bad.parent_pr.values, bins=50, histtype='step', label='Pr', range=(-120,120))\n",
    "plt.title('Bad Pion Initial Momenum')\n",
    "plt.xlabel('P (MeV)')\n",
    "plt.ylabel('Count')\n",
    "plt.legend()\n",
    "plt.show()"
   ]
  },
  {
   "cell_type": "code",
   "execution_count": null,
   "metadata": {},
   "outputs": [],
   "source": [
    "_ = splt.hist(df_mu_bad.parent_pz.values, bins=50, histtype='step', label='Pz', range=(-120,120))\n",
    "_ = splt.hist(df_mu_bad.parent_pr.values, bins=50, histtype='step', label='Pr', range=(-120,120))\n",
    "plt.title('Bad Pion Initial Momenum')\n",
    "plt.xlabel('P (MeV)')\n",
    "plt.ylabel('Count')\n",
    "plt.legend()"
   ]
  },
  {
   "cell_type": "code",
   "execution_count": null,
   "metadata": {},
   "outputs": [],
   "source": [
    "_ = splt.hist(df_mu_bad.parent_pstop.values, bins=50)\n",
    "plt.title('Bad Pion Final Momentum')\n",
    "plt.xlabel('P (MeV)')\n",
    "plt.ylabel('Count')"
   ]
  },
  {
   "cell_type": "code",
   "execution_count": null,
   "metadata": {},
   "outputs": [],
   "source": [
    "_ = splt.hist(df_mu_bad.parent_pzstop.values, bins=50, histtype='step', label='Pz', range=(-120,120))\n",
    "_ = splt.hist(df_mu_bad.parent_prstop.values, bins=50, histtype='step', label='Pr', range=(-120,120))\n",
    "plt.title('Bad Pion Final Momenum')\n",
    "plt.xlabel('P (MeV)')\n",
    "plt.ylabel('Count')\n",
    "plt.legend()"
   ]
  },
  {
   "cell_type": "code",
   "execution_count": null,
   "metadata": {},
   "outputs": [],
   "source": [
    "_ = splt.hist(df_mu_bad.p.values, bins=50)\n",
    "plt.title('Bad Muon Inital Momentum')\n",
    "plt.xlabel('P (MeV)')\n",
    "plt.ylabel('Count')\n",
    "plt.show()\n",
    "\n",
    "plt.figure()\n",
    "_ = splt.hist(df_mu_bad.pz.values, bins=50, histtype='step', label='Pz', range=(-120,120))\n",
    "_ = splt.hist(df_mu_bad.pr.values, bins=50, histtype='step', label='Pr', range=(-120,120))\n",
    "plt.title('Bad Muon Initial Momenum')\n",
    "plt.xlabel('P (MeV)')\n",
    "plt.ylabel('Count')\n",
    "plt.legend()\n",
    "plt.show()"
   ]
  },
  {
   "cell_type": "code",
   "execution_count": null,
   "metadata": {},
   "outputs": [],
   "source": [
    "_ = splt.hist(df_mu_bad.pstop.values, bins=50)\n",
    "plt.title('Bad Muon Final Momentum')\n",
    "plt.xlabel('P (MeV)')\n",
    "plt.ylabel('Count')\n",
    "plt.show()\n",
    "\n",
    "plt.figure()\n",
    "_ = splt.hist(df_mu_bad.pzstop.values, bins=50, histtype='step', label='Pz', range=(-120,120))\n",
    "_ = splt.hist(df_mu_bad.prstop.values, bins=50, histtype='step', label='Pr', range=(-120,120))\n",
    "plt.title('Bad Muon Final Momenum')\n",
    "plt.xlabel('P (MeV)')\n",
    "plt.ylabel('Count')\n",
    "plt.legend()\n",
    "plt.show()"
   ]
  },
  {
   "cell_type": "code",
   "execution_count": null,
   "metadata": {},
   "outputs": [],
   "source": [
    "_ = splt.hist(df_mu_bad.z.values, bins=50, histtype='stepfilled', label='Z', range=(11300,11900))\n",
    "_ = splt.hist(df_mu_bad.zstop.values, bins=50, histtype='stepfilled', label='Zstop', range=(11300,11900))\n",
    "plt.title('Bad Muon Z Position')\n",
    "plt.xlabel('z (mm)')\n",
    "plt.ylabel('Count')\n",
    "plt.legend()\n",
    "plt.show()"
   ]
  },
  {
   "cell_type": "code",
   "execution_count": null,
   "metadata": {},
   "outputs": [],
   "source": [
    "_ = plt.plot(df_mu_bad.z.values, df_mu_bad.zstop.values, 'o')\n",
    "plt.xlim(11300, 11900)\n",
    "plt.ylim(11300, 11900)\n",
    "plt.title('Bad Muon Z Position')\n",
    "plt.xlabel('Z init (mm)')\n",
    "plt.ylabel('Z final (mm)')\n",
    "ax = plt.gca()\n",
    "ax.plot(ax.get_xlim(), ax.get_ylim(), ls=\"--\", c=\".3\")\n",
    "plt.grid()\n",
    "plt.legend()\n",
    "plt.show()"
   ]
  },
  {
   "cell_type": "code",
   "execution_count": null,
   "metadata": {},
   "outputs": [],
   "source": [
    "_ = plt.plot(df_mu_bad.p.values, df_mu_bad.pstop.values, 'oC1')\n",
    "plt.title('Bad Muon P')\n",
    "plt.xlabel('P init (MeV)')\n",
    "plt.ylabel('P final (MeV)')\n",
    "plt.xlim(60,120)\n",
    "plt.ylim(60,120)\n",
    "ax = plt.gca()\n",
    "ax.plot(ax.get_xlim(), ax.get_ylim(), ls=\"--\", c=\".3\")\n",
    "plt.grid()\n",
    "plt.legend()\n",
    "plt.show()"
   ]
  },
  {
   "cell_type": "code",
   "execution_count": null,
   "metadata": {},
   "outputs": [],
   "source": [
    "_ = splt.hist(df_ntpart[(df_ntpart.parent_pzstop>18)&(df_ntpart.parent_pzstop<22)&(df_ntpart.parent_pstop>100)].pz.values, bins=50)\n",
    "plt.title('')\n",
    "plt.xlabel('P (MeV)')\n",
    "plt.ylabel('Count')\n",
    "plt.show()\n",
    "\n",
    "plt.figure()\n",
    "_ = splt.hist(df_ntpart[(df_ntpart.parent_pzstop>18)&(df_ntpart.parent_pzstop<22)&(df_ntpart.parent_pstop>100)&(df_ntpart.z>11300)&(df_ntpart.z<11900)].pz.values, bins=50)\n",
    "plt.title('')\n",
    "plt.xlabel('P (MeV)')\n",
    "plt.ylabel('Count')\n",
    "plt.show()\n"
   ]
  },
  {
   "cell_type": "code",
   "execution_count": null,
   "metadata": {},
   "outputs": [],
   "source": [
    "_ = splt.hist(df_ntpart[(df_ntpart.parent_pzstop>18)&(df_ntpart.parent_pzstop<22)&(df_ntpart.parent_pstop>100)&(df_ntpart.z>11300)&(df_ntpart.z<11900)].time.values, bins=50)\n",
    "plt.title('')\n",
    "plt.xlabel('T (ns)')\n",
    "plt.ylabel('Count')\n",
    "plt.show()"
   ]
  },
  {
   "cell_type": "code",
   "execution_count": null,
   "metadata": {},
   "outputs": [],
   "source": [
    "df_tmp = df_ntpart[(df_ntpart.parent_pzstop>18)&(df_ntpart.parent_pzstop<22)&(df_ntpart.parent_pstop>100)&(df_ntpart.z>11300)&(df_ntpart.z<11900)]\n",
    "_ = splt.hist(df_tmp.parent_pz.values/df_tmp.parent_p.values, bins=50)\n",
    "plt.title('')\n",
    "plt.xlabel('')\n",
    "plt.ylabel('Count')\n",
    "plt.show()"
   ]
  },
  {
   "cell_type": "code",
   "execution_count": null,
   "metadata": {},
   "outputs": [],
   "source": [
    "df_ntpart.query('tstop>600')"
   ]
  },
  {
   "cell_type": "code",
   "execution_count": null,
   "metadata": {},
   "outputs": [],
   "source": [
    "df_maybe_bad = df_ntpart[(df_ntpart.x>-700)&(df_ntpart.x<700)&(df_ntpart.y>-700)&(df_ntpart.y<700)&(df_ntpart.z<11900)&(df_ntpart.z>11200)&(df_ntpart.p>75)&(np.abs(df_ntpart.pz)<20)]"
   ]
  },
  {
   "cell_type": "code",
   "execution_count": null,
   "metadata": {},
   "outputs": [],
   "source": [
    "df_maybe_bad"
   ]
  },
  {
   "cell_type": "code",
   "execution_count": null,
   "metadata": {},
   "outputs": [],
   "source": [
    "_ = splt.hist(df_maybe_bad.parent_pz.values/df_maybe_bad.parent_p.values, bins=50, histtype='step', label='Pz', range=(-1,1))\n",
    "plt.title('Bad Pion Initial Pz')\n",
    "plt.xlabel('Pz (MeV)')\n",
    "plt.ylabel('Count')\n",
    "plt.legend()"
   ]
  },
  {
   "cell_type": "code",
   "execution_count": null,
   "metadata": {},
   "outputs": [],
   "source": [
    "_ = splt.hist(df_maybe_bad.parent_p.values, bins=50, histtype='step', label='P')\n",
    "plt.title('Bad Pion Initial P')\n",
    "plt.xlabel('P (MeV)')\n",
    "plt.ylabel('Count')\n",
    "plt.legend()"
   ]
  },
  {
   "cell_type": "code",
   "execution_count": null,
   "metadata": {},
   "outputs": [],
   "source": [
    "_ = splt.hist(df_maybe_bad.parent_z.values, bins=50, histtype='step', label='Z', range=(5100,6400))\n",
    "plt.title('Bad Pion Initial Z')\n",
    "plt.xlabel('Z (mm)')\n",
    "plt.ylabel('Count')\n",
    "plt.legend()"
   ]
  },
  {
   "cell_type": "code",
   "execution_count": null,
   "metadata": {},
   "outputs": [],
   "source": [
    "_ = splt.hist(df_maybe_bad.parent_x.values, bins=50, histtype='step', label='X')\n",
    "plt.title('Bad Pion Initial X')\n",
    "plt.xlabel('X (mm)')\n",
    "plt.ylabel('Count')\n",
    "plt.legend()"
   ]
  },
  {
   "cell_type": "code",
   "execution_count": null,
   "metadata": {},
   "outputs": [],
   "source": []
  }
 ],
 "metadata": {
  "kernelspec": {
   "display_name": "Python 3",
   "language": "python",
   "name": "python3"
  },
  "language_info": {
   "codemirror_mode": {
    "name": "ipython",
    "version": 3
   },
   "file_extension": ".py",
   "mimetype": "text/x-python",
   "name": "python",
   "nbconvert_exporter": "python",
   "pygments_lexer": "ipython3",
   "version": "3.6.5"
  }
 },
 "nbformat": 4,
 "nbformat_minor": 2
}
