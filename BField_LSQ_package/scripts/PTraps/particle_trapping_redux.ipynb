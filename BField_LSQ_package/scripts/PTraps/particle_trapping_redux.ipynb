{
 "cells": [
  {
   "cell_type": "code",
   "execution_count": null,
   "metadata": {},
   "outputs": [],
   "source": [
    "from mu2e import mu2e_ext_path\n",
    "from mu2e.dataframeprod import g4root_to_df\n",
    "from root_pandas import read_root\n",
    "import pandas as pd\n",
    "from mu2e.mu2eplots import mu2e_plot3d_ptrap\n",
    "from mu2e.mu2eplots import mu2e_plot3d_ptrap_traj\n",
    "from mu2e.mu2eplots import mu2e_plot3d_ptrap_anim\n",
    "import mu2e.mu2eplots as mplt\n",
    "import six.moves.cPickle as pkl\n",
    "%matplotlib inline\n",
    "plt.rcParams['figure.figsize'] = (12,8)\n",
    "mu2e_data_path = '/Volumes/DataDump/Mu2E/G4ParticleSim/'"
   ]
  },
  {
   "cell_type": "code",
   "execution_count": null,
   "metadata": {},
   "outputs": [],
   "source": [
    "del df_ntpart\n",
    "del df_nttvd"
   ]
  },
  {
   "cell_type": "code",
   "execution_count": null,
   "metadata": {},
   "outputs": [],
   "source": [
    "store = pd.HDFStore(mu2e_data_path+'z13k_100p_ft_muons_GA05.h5')\n",
    "df_nttvd = store.df_nttvd\n",
    "df_ntpart = store.df_ntpart\n",
    "store.close()\n",
    "\n"
   ]
  },
  {
   "cell_type": "code",
   "execution_count": null,
   "metadata": {},
   "outputs": [],
   "source": [
    "store_xray = pd.HDFStore(mu2e_data_path+'low_e_ele_0T_v580.h5')\n",
    "df_xray = store_xray.df_ntpart\n",
    "store_xray.close()"
   ]
  },
  {
   "cell_type": "code",
   "execution_count": null,
   "metadata": {},
   "outputs": [],
   "source": [
    "len(df_ntpart.query('xstop<1000 and tstop>9999 and sqrt(xstop*xstop+ystop*ystop)<900 and 4000<zstop<14000 and pdg==13 and pstop>90'))"
   ]
  },
  {
   "cell_type": "code",
   "execution_count": null,
   "metadata": {},
   "outputs": [],
   "source": [
    "mu2e_plot3d_ptrap(df_ntpart2.query('xstop<1000 and tstop>9999 and sqrt(xstop*xstop+ystop*ystop)<900 and 7000<zstop<14000 and pdg==13 and pstop>75').reset_index().ix[0:10000],\n",
    "                  'zstop','xstop','ystop', x_range=[3700,17500], y_range = [-1000,1000], z_range=[-1000,1000],\n",
    "                  mode='plotly_nb', df_xray=df_xray, color='pstop', title='Particle Trapping GA05')"
   ]
  },
  {
   "cell_type": "code",
   "execution_count": null,
   "metadata": {},
   "outputs": [],
   "source": [
    "mu2e_plot3d_ptrap(df_ntpart.query('pdg==13 and tstop>700').reset_index(),\n",
    "                  'z','x','y', x_range=[3700,17500], y_range = [-1000,1000], z_range=[-1000,1000], save_name=None,\n",
    "                   df_xray=df_xray, color='p', title='Particle Trapping GA05')"
   ]
  },
  {
   "cell_type": "code",
   "execution_count": null,
   "metadata": {},
   "outputs": [],
   "source": [
    "df_ntpart.tstop.hist(bins=50)"
   ]
  },
  {
   "cell_type": "code",
   "execution_count": null,
   "metadata": {},
   "outputs": [],
   "source": [
    "bins, edges = mplt.xray_maker_2(df_xray)"
   ]
  },
  {
   "cell_type": "code",
   "execution_count": null,
   "metadata": {},
   "outputs": [],
   "source": [
    "len(bins.flatten())"
   ]
  },
  {
   "cell_type": "code",
   "execution_count": null,
   "metadata": {},
   "outputs": [],
   "source": [
    "xray_query = 'xstop<1000 and tstop< 200 and sqrt(xstop*xstop+ystop*ystop)<900'\n",
    "df_xray.query(xray_query, inplace=True)"
   ]
  },
  {
   "cell_type": "code",
   "execution_count": null,
   "metadata": {},
   "outputs": [],
   "source": [
    "df_xray.xstop.values"
   ]
  },
  {
   "cell_type": "code",
   "execution_count": null,
   "metadata": {},
   "outputs": [],
   "source": [
    "h, edges = np.histogramdd(np.asarray([df_xray.xstop.values, df_xray.ystop.values, df_xray.zstop.values]).T,\n",
    "                                 bins=(10, 10, 20), range=[(-900,900),(-900,900),(3500, 15000)])"
   ]
  },
  {
   "cell_type": "code",
   "execution_count": null,
   "metadata": {},
   "outputs": [],
   "source": [
    "h[0][0][19]"
   ]
  },
  {
   "cell_type": "code",
   "execution_count": null,
   "metadata": {},
   "outputs": [],
   "source": [
    "mg = np.meshgrid(edges[0], edges[1], edges[2])"
   ]
  },
  {
   "cell_type": "code",
   "execution_count": null,
   "metadata": {},
   "outputs": [],
   "source": [
    "edges"
   ]
  },
  {
   "cell_type": "code",
   "execution_count": null,
   "metadata": {},
   "outputs": [],
   "source": []
  },
  {
   "cell_type": "code",
   "execution_count": null,
   "metadata": {},
   "outputs": [],
   "source": [
    "mplt.xray_maker_2(df_xray)"
   ]
  },
  {
   "cell_type": "code",
   "execution_count": null,
   "metadata": {},
   "outputs": [],
   "source": [
    "df_nttvd_subset = df_nttvd.reset_index().ix[0:30000]"
   ]
  },
  {
   "cell_type": "code",
   "execution_count": null,
   "metadata": {},
   "outputs": [],
   "source": [
    "df_nttvd_oldest = df_nttvd[(df_nttvd.runevt.isin(df_nttvd[df_nttvd.sid==df_nttvd.query('pdg==13').sid.max()].runevt))&(df_nttvd.pdg==13.0)].reset_index().ix[0:30000]"
   ]
  },
  {
   "cell_type": "code",
   "execution_count": null,
   "metadata": {},
   "outputs": [],
   "source": [
    "mplt.mu2e_plot3d_ptrap_anim_2(df_nttvd_oldest,'z','x','y',df_xray)\n"
   ]
  },
  {
   "cell_type": "code",
   "execution_count": null,
   "metadata": {},
   "outputs": [],
   "source": []
  }
 ],
 "metadata": {
  "kernelspec": {
   "display_name": "Python 3",
   "language": "python",
   "name": "python3"
  },
  "language_info": {
   "codemirror_mode": {
    "name": "ipython",
    "version": 3
   },
   "file_extension": ".py",
   "mimetype": "text/x-python",
   "name": "python",
   "nbconvert_exporter": "python",
   "pygments_lexer": "ipython3",
   "version": "3.6.5"
  }
 },
 "nbformat": 4,
 "nbformat_minor": 1
}
