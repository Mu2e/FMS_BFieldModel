{
 "cells": [
  {
   "cell_type": "markdown",
   "metadata": {},
   "source": [
    "Interesting events:\n",
    "p1400_v4/cosmics_combined_2, 1405011\n"
   ]
  },
  {
   "cell_type": "code",
   "execution_count": null,
   "metadata": {},
   "outputs": [],
   "source": [
    "from mu2e import mu2e_ext_path\n",
    "from mu2e.dataframeprod import g4root_to_df\n",
    "from root_pandas import read_root\n",
    "import pandas as pd\n",
    "from mu2e.mu2eplots import mu2e_plot3d_ptrap\n",
    "from mu2e.mu2eplots import mu2e_plot3d_ptrap_traj\n",
    "from mu2e.mu2eplots import mu2e_plot3d_ptrap_anim\n",
    "import six.moves.cPickle as pkl\n",
    "%matplotlib inline\n",
    "plt.rcParams['figure.figsize'] = (12,8)"
   ]
  },
  {
   "cell_type": "code",
   "execution_count": null,
   "metadata": {},
   "outputs": [],
   "source": [
    "try:\n",
    "    del df_ntpart\n",
    "    del df_nttvd\n",
    "except:\n",
    "    pass\n",
    "df_ntpart, df_nttvd, _ = g4root_to_df(mu2e_ext_path+'/datafiles/PTrap/nts.bpollack.iso_muons_GA05_stage1_vd.v0.skim',\n",
    "                                     do_basic_modifications=True, trees = ['tvd', 'part'])"
   ]
  },
  {
   "cell_type": "code",
   "execution_count": null,
   "metadata": {},
   "outputs": [],
   "source": [
    "df_ntpart.z.hist()"
   ]
  },
  {
   "cell_type": "code",
   "execution_count": null,
   "metadata": {},
   "outputs": [],
   "source": [
    "df_nttvd.query('-1000<=x<=1000 and -1000<=y<=1000 and 12600<=z<=13200')['time'].describe()"
   ]
  },
  {
   "cell_type": "code",
   "execution_count": null,
   "metadata": {},
   "outputs": [],
   "source": [
    "df_ntpart.tstop.hist(bins=100)"
   ]
  },
  {
   "cell_type": "code",
   "execution_count": null,
   "metadata": {},
   "outputs": [],
   "source": [
    "store_xray = pd.HDFStore(mu2e_ext_path+'/datafiles/PTrap/low_e_ele_0T_v580.h5')\n",
    "df_xray = store_xray.df_ntpart\n",
    "store_xray.close()"
   ]
  },
  {
   "cell_type": "code",
   "execution_count": null,
   "metadata": {},
   "outputs": [],
   "source": [
    "df_mu_single = df_nttvd.query('runevt==22480726').sort_values('time')\n",
    "#df_mu_single = pd.concat([df_mu_single[0:20], df_mu_single[-20:]])\n",
    "df_mu_single.name = 'Muon'"
   ]
  },
  {
   "cell_type": "code",
   "execution_count": null,
   "metadata": {},
   "outputs": [],
   "source": [
    "mu2e_plot3d_ptrap_traj(df_mu_single,'z','x','y',df_xray=df_xray, y_range=(-2000,2000), z_range=(-1000, 10000), aspect='cosmic',\n",
    "                        title='Trapped Muon Trajetory', color_mode='mom')"
   ]
  },
  {
   "cell_type": "code",
   "execution_count": null,
   "metadata": {},
   "outputs": [],
   "source": [
    "cnts = df_nttvd.groupby('1773').count()\n",
    "cnts[cnts.evt==75]"
   ]
  },
  {
   "cell_type": "code",
   "execution_count": null,
   "metadata": {},
   "outputs": [],
   "source": [
    "df_mu_single"
   ]
  },
  {
   "cell_type": "code",
   "execution_count": null,
   "metadata": {},
   "outputs": [],
   "source": [
    "df_ntpart.query('tstop>300')"
   ]
  },
  {
   "cell_type": "code",
   "execution_count": null,
   "metadata": {},
   "outputs": [],
   "source": [
    "df_nttvd.query('-800<=x<=800 and -800<=y<=800 and 12600<=z<=13200 and 180<time<200')"
   ]
  },
  {
   "cell_type": "code",
   "execution_count": null,
   "metadata": {},
   "outputs": [],
   "source": [
    "df_enter_zone = df_nttvd.query('-800<=x<=800 and -800<=y<=800 and 12600<=z<=13200')"
   ]
  },
  {
   "cell_type": "code",
   "execution_count": null,
   "metadata": {},
   "outputs": [],
   "source": [
    "df_enter_zone = df_enter_zone.sort_values('time').drop_duplicates(subset='runevt')"
   ]
  },
  {
   "cell_type": "code",
   "execution_count": null,
   "metadata": {},
   "outputs": [],
   "source": [
    "df_enter_zone.p.hist(bins=20)\n",
    "plt.title('Momentum of muons when first entering trap region')\n",
    "plt.xlabel('p (MeV)')"
   ]
  },
  {
   "cell_type": "code",
   "execution_count": null,
   "metadata": {},
   "outputs": [],
   "source": [
    "len(df_ntpart.runevt.unique())"
   ]
  },
  {
   "cell_type": "code",
   "execution_count": null,
   "metadata": {},
   "outputs": [],
   "source": [
    "df_std_cosmic_height = df_nttvd.query('10947<=y<=10948').sort_values('time').drop_duplicates(subset='runevt')"
   ]
  },
  {
   "cell_type": "code",
   "execution_count": null,
   "metadata": {},
   "outputs": [],
   "source": [
    "df_std_cosmic_height.query('p>1460').p.hist(bins=100)\n",
    "plt.title('Momentum of muons at general cosmic sim height')\n",
    "plt.xlabel('p (MeV)')"
   ]
  },
  {
   "cell_type": "code",
   "execution_count": null,
   "metadata": {},
   "outputs": [],
   "source": [
    "df_ntpart.plot('tstop','p',kind='scatter')"
   ]
  },
  {
   "cell_type": "code",
   "execution_count": null,
   "metadata": {},
   "outputs": [],
   "source": []
  }
 ],
 "metadata": {
  "kernelspec": {
   "display_name": "Python 3",
   "language": "python",
   "name": "python3"
  },
  "language_info": {
   "codemirror_mode": {
    "name": "ipython",
    "version": 3
   },
   "file_extension": ".py",
   "mimetype": "text/x-python",
   "name": "python",
   "nbconvert_exporter": "python",
   "pygments_lexer": "ipython3",
   "version": "3.6.2"
  }
 },
 "nbformat": 4,
 "nbformat_minor": 1
}
