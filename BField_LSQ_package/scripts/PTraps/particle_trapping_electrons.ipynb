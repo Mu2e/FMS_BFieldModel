{
 "cells": [
  {
   "cell_type": "markdown",
   "metadata": {},
   "source": [
    "# Particle Trapping with Muon decay"
   ]
  },
  {
   "cell_type": "markdown",
   "metadata": {},
   "source": [
    "Notes:\n",
    "- Simulation is a two stage deal:\n",
    "    - Generate muons isotropically within the DS trap region, allow them to propigate for 700 ns (no decay)\n",
    "    - Use that output to further evolve remaining muons, allowing them to decay to electrons\n",
    "- Their are two copies of each 2nd stage muon in `ntpart`.\n",
    "    - Looks like copy 1 has t==0, p==100, pstop=p at 700ns\n",
    "    - The second muon has t=~700, p==100, parent_pstop = original p_stop\n",
    "- No muons have an initial timestamp > 700 ns\n",
    "- No electrons are born before 700 ns\n"
   ]
  },
  {
   "cell_type": "markdown",
   "metadata": {},
   "source": [
    "### Some Findings"
   ]
  },
  {
   "cell_type": "markdown",
   "metadata": {},
   "source": [
    "Number of trapped muons per init muon p:\n",
    "* p=80 : 22317*100 = ~2.2mil\n",
    "* p=100: 30241*100 = ~3mil\n",
    "* p=110: 34999*100 = ~3.5mil\n",
    "* p=140: 19031*100 = ~1.9mil\n",
    "\n",
    "Number of unique events in which an electron with p>100 makes it farther upstream than 11200mm:\n",
    "* Muon init p=80: 0 Events\n",
    "* Muon init p=100: 2 Events\n",
    "* Muon init p=110: 5 Events\n",
    "* Muon init p=140: 21 Events"
   ]
  },
  {
   "cell_type": "code",
   "execution_count": null,
   "metadata": {},
   "outputs": [],
   "source": [
    "from mu2e import mu2e_ext_path\n",
    "from mu2e.dataframeprod import g4root_to_df\n",
    "from root_pandas import read_root\n",
    "import pandas as pd\n",
    "from mu2e.mu2eplots import mu2e_plot3d_ptrap\n",
    "from mu2e.mu2eplots import mu2e_plot3d_ptrap_traj\n",
    "from mu2e.mu2eplots import mu2e_plot3d_ptrap_anim\n",
    "import cPickle as pkl\n",
    "%matplotlib inline\n",
    "plt.rcParams['figure.figsize'] = (12,8)"
   ]
  },
  {
   "cell_type": "code",
   "execution_count": null,
   "metadata": {},
   "outputs": [],
   "source": [
    "pd.options.display.max_columns = 50"
   ]
  },
  {
   "cell_type": "code",
   "execution_count": null,
   "metadata": {},
   "outputs": [],
   "source": [
    "input_root_skim = mu2e_ext_path+'datafiles/G4ParticleSim/stage2_140p/iso_muons_GA05_stage2_vd_combo_skim.root'\n",
    "df_ntpart = read_root(input_root_skim, 'ntpart')\n",
    "df_nttvd = read_root(input_root_skim, 'nttvd')\n",
    "df_ntvd = read_root(input_root_skim, 'ntvd')"
   ]
  },
  {
   "cell_type": "code",
   "execution_count": null,
   "metadata": {},
   "outputs": [],
   "source": [
    "input_root_single = mu2e_ext_path+'datafiles/G4ParticleSim/stage2_140p/iso_muons_GA05_stage2_vd0.root'\n",
    "df_ntpart = read_root(input_root_single, 'readvd/ntpart')"
   ]
  },
  {
   "cell_type": "code",
   "execution_count": null,
   "metadata": {},
   "outputs": [],
   "source": [
    "df_ntpart.query('pdg==11 and parent_pdg==13').pz.hist(bins=30)\n",
    "plt.title('Initial Electron Pz (Muon parent p = ~140 MeV)')\n",
    "plt.ylabel('Counts')\n",
    "plt.xlabel('Pz (MeV)')"
   ]
  },
  {
   "cell_type": "code",
   "execution_count": null,
   "metadata": {},
   "outputs": [],
   "source": [
    "df_ntpart.query('pdg==13 and time>0 and pstop>100').pzstop.hist(bins=50, color='r')\n",
    "plt.title('Muon Pz (t = 700 ns)')\n",
    "plt.ylabel('Counts')\n",
    "plt.xlabel('Pz (MeV)')"
   ]
  },
  {
   "cell_type": "code",
   "execution_count": null,
   "metadata": {},
   "outputs": [],
   "source": [
    "store = pd.HDFStore(mu2e_ext_path+'datafiles/G4ParticleSim/iso_muons_GA05_stage2_vd_solo.h5')\n",
    "df_nttvd_solo = store.df_nttvd\n",
    "df_ntvd_solo = store.df_ntvd\n",
    "df_ntpart_solo = store.df_ntpart\n",
    "store.close()"
   ]
  },
  {
   "cell_type": "code",
   "execution_count": null,
   "metadata": {},
   "outputs": [],
   "source": [
    "store_xray = pd.HDFStore(mu2e_ext_path+'datafiles/G4ParticleSim/low_e_ele_0T_v580.h5')\n",
    "df_xray = store_xray.df_ntpart\n",
    "store_xray.close()"
   ]
  },
  {
   "cell_type": "code",
   "execution_count": null,
   "metadata": {},
   "outputs": [],
   "source": [
    "df_ntpart.query('pdg==11 and time>0')[0:20000]"
   ]
  },
  {
   "cell_type": "code",
   "execution_count": null,
   "metadata": {},
   "outputs": [],
   "source": [
    "df_mu = df_ntpart.query('pdg==13 and time>0')[0:20000].reset_index()\n",
    "#df_mu = df_ntpart.query('pdg==13 and time>0').reset_index()\n",
    "\n",
    "df_mu.name = 'Muons'\n",
    "mu2e_plot3d_ptrap(df_mu,\n",
    "                  'z','x','y', x_range=[3700,17500], y_range = [-1000,1000], z_range=[-1000,1000], save_name=None,\n",
    "                   df_xray=df_xray, color='p', title='Muon position at t=700ns')"
   ]
  },
  {
   "cell_type": "code",
   "execution_count": null,
   "metadata": {},
   "outputs": [],
   "source": [
    "bads_runevt = df_nttvd.query('pdg==11 and z<11200 and p>85').runevt.unique()\n",
    "#df_mu = df_ntpart.query('pdg==13 and time>0 and 100<xstop<575 and 150>ystop>-600')[0:20000].reset_index()\n",
    "df_mu_bads = df_ntpart[df_ntpart.runevt.isin(bads_runevt)]\n",
    "#df_mu = df_ntpart.query('pdg==13 and time>0').reset_index()\n",
    "\n",
    "df_mu_bads.name = 'Muons'\n",
    "mu2e_plot3d_ptrap(df_mu_bads,\n",
    "                  'zstop','xstop','ystop', x_range=[3700,17500], y_range = [-1000,1000], z_range=[-1000,1000], save_name=None,\n",
    "                   df_xray=df_xray, color='pstop', title='Muon Decay Location Yeilding Sneaky Electrons')"
   ]
  },
  {
   "cell_type": "code",
   "execution_count": null,
   "metadata": {},
   "outputs": [],
   "source": [
    "df_mu = df_ntpart.query('pdg==13 and time>0')\n",
    "df_el = df_ntpart.query('pdg==11')\n",
    "\n",
    "df_mu.pz.hist(range=[-5,5],bins=100)"
   ]
  },
  {
   "cell_type": "code",
   "execution_count": null,
   "metadata": {},
   "outputs": [],
   "source": [
    "df_el.p.hist(bins=50)"
   ]
  },
  {
   "cell_type": "code",
   "execution_count": null,
   "metadata": {},
   "outputs": [],
   "source": [
    "df_ntvd_ele = df_ntvd.query('pdg==11').reset_index()\n",
    "df_ntvd_ele.name = 'Electrons'\n",
    "mu2e_plot3d_ptrap(df_ntvd_ele,\n",
    "                  'z','x','y', x_range=[3700,17500], y_range = [-1000,1000], z_range=[-1000,1000], save_name=None,\n",
    "                   df_xray=df_xray, color='p', symbol='x', title='Electrons, p>100 VD hits')"
   ]
  },
  {
   "cell_type": "code",
   "execution_count": null,
   "metadata": {},
   "outputs": [],
   "source": [
    "len(df_ntvd_ele.query('pdg==11 and z<11200').runevt.unique())"
   ]
  },
  {
   "cell_type": "code",
   "execution_count": null,
   "metadata": {},
   "outputs": [],
   "source": [
    "init_mu = len(df_ntpart.query('pdg==13 and time==0'))\n",
    "ele_100_110 = len(df_ntpart.query('pdg==11 and 100<p<110'))\n",
    "ele_103_105 = len(df_ntpart.query('pdg==11 and 103.85<p<105.1'))\n",
    "print init_mu\n",
    "print ele_100_110, (float(ele_100_110)/init_mu)\n",
    "print ele_103_105, (float(ele_103_105)/init_mu)"
   ]
  },
  {
   "cell_type": "code",
   "execution_count": null,
   "metadata": {},
   "outputs": [],
   "source": [
    "df_nttvd_ele_solo = df_nttvd_solo.query('runevt==133139712 and pdg==11')\n",
    "df_nttvd_mu_solo = df_nttvd_solo.query('runevt==133139712 and pdg==13')\n",
    "df_nttvd_ele_solo.name = 'Sneaky Electron'"
   ]
  },
  {
   "cell_type": "code",
   "execution_count": null,
   "metadata": {},
   "outputs": [],
   "source": [
    "df_ntvd_ele_solo = df_ntvd.query('runevt==621228021543 and pdg==11')"
   ]
  },
  {
   "cell_type": "code",
   "execution_count": null,
   "metadata": {},
   "outputs": [],
   "source": [
    "df_ntvd.query('runevt==621228021543 and pdg==11')"
   ]
  },
  {
   "cell_type": "code",
   "execution_count": null,
   "metadata": {},
   "outputs": [],
   "source": [
    "g.plot(fig)"
   ]
  },
  {
   "cell_type": "code",
   "execution_count": null,
   "metadata": {},
   "outputs": [],
   "source": [
    "\n",
    "g, fig = mu2e_plot3d_ptrap_anim(df_nttvd_ele_solo,'z','x','y',df_xray,\n",
    "                                 color=True,title='Electrons from trapped muons')"
   ]
  },
  {
   "cell_type": "code",
   "execution_count": null,
   "metadata": {},
   "outputs": [],
   "source": [
    "df_ntvd_ele_solo.name = 'Sneaky Electron'\n",
    "df_ntvd_ele_solo.sort_values('time', inplace=True)"
   ]
  },
  {
   "cell_type": "code",
   "execution_count": null,
   "metadata": {},
   "outputs": [],
   "source": [
    "df_tmp = df_nttvd.query('runevt==2').sort_values('time')\n",
    "df_tmp.name='Cosmic'"
   ]
  },
  {
   "cell_type": "code",
   "execution_count": null,
   "metadata": {},
   "outputs": [],
   "source": [
    "df_nttvd_solo.name = 'Electron'"
   ]
  },
  {
   "cell_type": "code",
   "execution_count": null,
   "metadata": {},
   "outputs": [],
   "source": [
    "mu2e_plot3d_ptrap_traj(df_nttvd_ele_solo,'z','x','y',df_xray=df_xray,\n",
    "                        title='Electrons from trapped muons')"
   ]
  },
  {
   "cell_type": "code",
   "execution_count": null,
   "metadata": {},
   "outputs": [],
   "source": [
    "df_nttvd_mu_test = df_nttvd.query('runevt==38654 and pdg==13')\n",
    "df_nttvd_mu_test.name = 'Muon'"
   ]
  },
  {
   "cell_type": "code",
   "execution_count": null,
   "metadata": {},
   "outputs": [],
   "source": [
    "df_ntvd_ele.query('p>=100 and z<11090')"
   ]
  },
  {
   "cell_type": "code",
   "execution_count": null,
   "metadata": {},
   "outputs": [],
   "source": [
    "df_ntvd_ele[df_ntvd_ele.z==df_ntvd_ele.z.min()]"
   ]
  },
  {
   "cell_type": "code",
   "execution_count": null,
   "metadata": {},
   "outputs": [],
   "source": [
    "df_nttvd[df_nttvd.runevt==58133139712]"
   ]
  },
  {
   "cell_type": "code",
   "execution_count": null,
   "metadata": {},
   "outputs": [],
   "source": [
    "df_ntvd.query('pdg==11 and z<11800').p.hist()\n",
    "plt.title('Electrons, Z<11800')\n",
    "plt.xlabel('p (MeV)')"
   ]
  },
  {
   "cell_type": "code",
   "execution_count": null,
   "metadata": {},
   "outputs": [],
   "source": [
    "df_ntvd.query('p>=100').z.hist()\n",
    "plt.title('Electrons, p>100')\n",
    "plt.xlabel('Z (mm)')"
   ]
  },
  {
   "cell_type": "code",
   "execution_count": null,
   "metadata": {},
   "outputs": [],
   "source": [
    "df_nttvd_normal[df_nttvd_normal.sid==1].pz.hist(bins=40)"
   ]
  },
  {
   "cell_type": "code",
   "execution_count": null,
   "metadata": {},
   "outputs": [],
   "source": [
    "df_ntpart.query('pdg==11').p.hist(bins=20)\n",
    "plt.title('Electron Initial Momentum')\n",
    "plt.xlabel('p (MeV)')"
   ]
  },
  {
   "cell_type": "code",
   "execution_count": null,
   "metadata": {},
   "outputs": [],
   "source": [
    "df_ntpart.query('pdg==11 and parent_p>75').z.hist(bins=20, )\n",
    "plt.title('Electron Starting Z (muon p>75)')\n",
    "plt.xlabel('Z (mm)')"
   ]
  },
  {
   "cell_type": "code",
   "execution_count": null,
   "metadata": {},
   "outputs": [],
   "source": [
    "df_ntvd.query('pdg==11 and parent_p>75').z.hist(bins=20, )\n",
    "plt.title('Electron Stoping Z (muon p>75)')\n",
    "plt.xlabel('Z (mm)')"
   ]
  },
  {
   "cell_type": "code",
   "execution_count": null,
   "metadata": {},
   "outputs": [],
   "source": [
    "df_ntpart.columns"
   ]
  },
  {
   "cell_type": "code",
   "execution_count": null,
   "metadata": {},
   "outputs": [],
   "source": [
    "df_ntpart.p.hist(bins=50)\n",
    "plt.xlabel('Momentum (MeV)')\n",
    "plt.ylabel('Count')\n",
    "plt.title('Initial Muon Momentum for `ntpart` tree')"
   ]
  },
  {
   "cell_type": "code",
   "execution_count": null,
   "metadata": {},
   "outputs": [],
   "source": [
    "g.save?"
   ]
  },
  {
   "cell_type": "code",
   "execution_count": null,
   "metadata": {},
   "outputs": [],
   "source": [
    "df_nttvd.query('pdg==13').sid.max()"
   ]
  },
  {
   "cell_type": "code",
   "execution_count": null,
   "metadata": {},
   "outputs": [],
   "source": [
    "from mu2e.dataframeprod import g4root_to_df\n",
    "g4root_to_df(mu2e_ext_path+'datafiles/G4ParticleSim/iso_muons_GA05_stage2_vd2',True,True)"
   ]
  },
  {
   "cell_type": "code",
   "execution_count": null,
   "metadata": {},
   "outputs": [],
   "source": [
    "df_ntpart[df_ntpart.evt==25456]"
   ]
  },
  {
   "cell_type": "markdown",
   "metadata": {
    "collapsed": true
   },
   "source": [
    "## Some results"
   ]
  },
  {
   "cell_type": "code",
   "execution_count": null,
   "metadata": {},
   "outputs": [],
   "source": [
    "print 'total number of muons (that survive 700)', len(df_ntpart.query('pdg==13 and time==0'))\n",
    "print 'total number of electrons (between 700 and 10k)', len(df_ntpart.query('pdg==11'))"
   ]
  },
  {
   "cell_type": "code",
   "execution_count": null,
   "metadata": {},
   "outputs": [],
   "source": [
    "df_ntpart.query('pdg==13 and time==0').pstop.hist()\n",
    "plt.gca().set_yscale('log')\n",
    "plt.title('Muon momenta at 700 ns')\n"
   ]
  },
  {
   "cell_type": "code",
   "execution_count": null,
   "metadata": {},
   "outputs": [],
   "source": [
    "df_ntpart.query('pdg==13 and time==0').zstop.hist()\n",
    "plt.gca().set_yscale('log')\n",
    "plt.title('Muon z position at 700 ns')"
   ]
  },
  {
   "cell_type": "code",
   "execution_count": null,
   "metadata": {},
   "outputs": [],
   "source": [
    "df_ntpart.query('pdg==11').p.hist()\n",
    "plt.title('Electron starting momenta')"
   ]
  },
  {
   "cell_type": "code",
   "execution_count": null,
   "metadata": {},
   "outputs": [],
   "source": [
    "from mu2e.dataframeprod import g4root_to_df\n",
    "\n",
    "g4root_to_df(mu2e_ext_path+'datafiles/G4ParticleSim/tmp/iso_muons_GA05_stage2_vd1',True,True)\n",
    "g4root_to_df(mu2e_ext_path+'datafiles/G4ParticleSim/tmp/iso_muons_GA05_stage2_vd2',True,True)"
   ]
  },
  {
   "cell_type": "code",
   "execution_count": null,
   "metadata": {},
   "outputs": [],
   "source": [
    "store = pd.HDFStore(mu2e_ext_path+'datafiles/G4ParticleSim/tmp/iso_muons_GA05_stage2_vd1.h5')\n",
    "df_ntpart1 = store.df_ntpart\n",
    "store.close()\n",
    "store = pd.HDFStore(mu2e_ext_path+'datafiles/G4ParticleSim/tmp/iso_muons_GA05_stage2_vd2.h5')\n",
    "df_ntpart2 = store.df_ntpart\n",
    "store.close()"
   ]
  },
  {
   "cell_type": "code",
   "execution_count": null,
   "metadata": {},
   "outputs": [],
   "source": [
    "df_ntpart1.query('runevt==28139').pstop"
   ]
  },
  {
   "cell_type": "code",
   "execution_count": null,
   "metadata": {},
   "outputs": [],
   "source": [
    "df_ntpart2.query('runevt==28139').pstop"
   ]
  },
  {
   "cell_type": "markdown",
   "metadata": {},
   "source": [
    "# Bookkeeping for high-stats samples"
   ]
  },
  {
   "cell_type": "code",
   "execution_count": null,
   "metadata": {},
   "outputs": [],
   "source": [
    "from mu2e.dataframeprod import g4root_to_df\n",
    "import tqdm\n",
    "for i in range(100):\n",
    "    g4root_to_df(mu2e_ext_path+'datafiles/G4ParticleSim/stage2_80p/iso_muons_GA05_stage2_vd{}'.format(i),True,True,cluster=i)"
   ]
  },
  {
   "cell_type": "code",
   "execution_count": null,
   "metadata": {},
   "outputs": [],
   "source": [
    "store = pd.HDFStore(mu2e_ext_path+'datafiles/G4ParticleSim/stage2/iso_muons_GA05_stage2_vd0.h5')\n",
    "df_nttvd = store.df_nttvd\n",
    "df_ntvd = store.df_ntvd\n",
    "df_ntpart = store.df_ntpart\n",
    "store.close()\n"
   ]
  },
  {
   "cell_type": "code",
   "execution_count": null,
   "metadata": {},
   "outputs": [],
   "source": [
    "from root_pandas import to_root, read_root\n",
    "import tqdm\n",
    "df_nttvd_list = []\n",
    "for i in tqdm.tqdm_notebook(range(100)):\n",
    "    input_root = mu2e_ext_path+'datafiles/G4ParticleSim/stage2_110p/iso_muons_GA05_stage2_vd{}.root'.format(i)\n",
    "    output_root = mu2e_ext_path+'datafiles/G4ParticleSim/stage2_80p/iso_muons_GA05_stage2_vd{}_skim.root'.format(i)\n",
    "    df_ntpart = read_root(input_root, 'ntpart')\n",
    "    df_nttvd = read_root(input_root, 'nttvd')\n",
    "    df_ntvd = read_root(input_root, 'ntvd')\n",
    "    \n",
    "    good_runevt = df_ntpart.query('pdg==11 and p>75').runevt.unique()\n",
    "    df_ntpart = df_ntpart[df_ntpart.runevt.isin(good_runevt)]\n",
    "    df_ntvd = df_ntvd[df_ntvd.runevt.isin(good_runevt)]\n",
    "    df_nttvd = df_nttvd[df_nttvd.runevt.isin(good_runevt)]\n",
    "    df_ntvd.to_root(output_root, tree_key='ntvd', mode = 'w')\n",
    "    df_nttvd.to_root(output_root, tree_key='nttvd', mode = 'a')\n",
    "    df_ntpart.to_root(output_root, tree_key='ntpart', mode = 'a')\n"
   ]
  },
  {
   "cell_type": "code",
   "execution_count": null,
   "metadata": {},
   "outputs": [],
   "source": [
    "df_nttvd = pd.concat(df_nttvd_list, ignore_index=True)\n"
   ]
  },
  {
   "cell_type": "code",
   "execution_count": null,
   "metadata": {},
   "outputs": [],
   "source": [
    "store = pd.HDFStore(mu2e_ext_path+'datafiles/G4ParticleSim/stage2/iso_muons_GA05_stage2_vd_combo.h5')"
   ]
  },
  {
   "cell_type": "code",
   "execution_count": null,
   "metadata": {},
   "outputs": [],
   "source": [
    "import root_pandas"
   ]
  },
  {
   "cell_type": "code",
   "execution_count": null,
   "metadata": {},
   "outputs": [],
   "source": [
    "from mu2e.dataframeprod import g4root_to_df\n",
    "from mu2e import mu2e_ext_path\n",
    "df_ntpart, df_nttvd, df_ntvd = g4root_to_df(mu2e_ext_path+'datafiles/G4ParticleSim/stage2/iso_muons_GA05_stage2_vd_combo',tree_prefix='')"
   ]
  },
  {
   "cell_type": "code",
   "execution_count": null,
   "metadata": {},
   "outputs": [],
   "source": [
    "input_root_solo = mu2e_ext_path+'datafiles/G4ParticleSim/iso_muons_GA05_stage2_vd_solo'\n",
    "g4root_to_df(input_root_solo, do_basic_modifications=True, make_pickle=True)"
   ]
  },
  {
   "cell_type": "code",
   "execution_count": null,
   "metadata": {},
   "outputs": [],
   "source": [
    "#store = pd.HDFStore(mu2e_ext_path+'datafiles/G4ParticleSim/z13k_muons_extmat_GA05.h5')\n",
    "store = pd.HDFStore(mu2e_ext_path+'datafiles/G4ParticleSim/iso_muons_GA05_stage2_vd2.h5')\n",
    "df_nttvd = store.df_nttvd\n",
    "df_ntvd = store.df_ntvd\n",
    "df_ntpart = store.df_ntpart\n",
    "store.close()\n",
    "store_xray = pd.HDFStore(mu2e_ext_path+'datafiles/G4ParticleSim/low_e_ele_0T_v580.h5')\n",
    "df_xray = store_xray.df_ntpart\n",
    "store_xray.close()\n",
    "#store2 = pd.HDFStore(mu2e_ext_path+'datafiles/G4ParticleSim/z13k_muons_nomat_GA05.h5')\n",
    "#df_nttvd2 = store2.df_nttvd\n",
    "#df_ntpart2 = store2.df_ntpart\n",
    "#store2.close()"
   ]
  },
  {
   "cell_type": "code",
   "execution_count": null,
   "metadata": {},
   "outputs": [],
   "source": [
    "from root_pandas import to_root"
   ]
  },
  {
   "cell_type": "code",
   "execution_count": null,
   "metadata": {},
   "outputs": [],
   "source": [
    "from mu2e.dataframeprod import g4root_to_df_skim_and_combo\n",
    "g4root_to_df_skim_and_combo(mu2e_ext_path+'datafiles/G4ParticleSim/stage2_110p_5k/iso_muons_GA05_stage2_vd', 100)"
   ]
  },
  {
   "cell_type": "code",
   "execution_count": null,
   "metadata": {},
   "outputs": [],
   "source": [
    "_, df_nttvd, _ = g4root_to_df(mu2e_ext_path+'datafiles/G4ParticleSim/traps_vd', trees=['tvd'], do_basic_modifications=True)"
   ]
  },
  {
   "cell_type": "code",
   "execution_count": null,
   "metadata": {},
   "outputs": [],
   "source": [
    "df_tmp = df_nttvd.query('runevt==1 and pdg==13').sort_values('time')\n",
    "df_tmp.name='Cosmic'"
   ]
  },
  {
   "cell_type": "code",
   "execution_count": null,
   "metadata": {},
   "outputs": [],
   "source": [
    "df_tmp"
   ]
  },
  {
   "cell_type": "code",
   "execution_count": null,
   "metadata": {},
   "outputs": [],
   "source": [
    "mu2e_plot3d_ptrap_traj(df_tmp,'z','x','y',df_xray=df_xray, z_range=(-1000, 8000),\n",
    "                        title='Cosmic muons')"
   ]
  },
  {
   "cell_type": "code",
   "execution_count": null,
   "metadata": {},
   "outputs": [],
   "source": [
    "df_nttvd.time.max()"
   ]
  },
  {
   "cell_type": "code",
   "execution_count": null,
   "metadata": {},
   "outputs": [],
   "source": []
  }
 ],
 "metadata": {
  "kernelspec": {
   "display_name": "Python 3",
   "language": "python",
   "name": "python3"
  },
  "language_info": {
   "codemirror_mode": {
    "name": "ipython",
    "version": 3
   },
   "file_extension": ".py",
   "mimetype": "text/x-python",
   "name": "python",
   "nbconvert_exporter": "python",
   "pygments_lexer": "ipython3",
   "version": "3.6.5"
  }
 },
 "nbformat": 4,
 "nbformat_minor": 1
}
