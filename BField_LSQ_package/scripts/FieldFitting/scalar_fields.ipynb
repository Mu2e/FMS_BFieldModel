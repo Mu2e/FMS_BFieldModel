{
 "cells": [
  {
   "cell_type": "code",
   "execution_count": null,
   "metadata": {},
   "outputs": [],
   "source": [
    "import matplotlib.pyplot as plt\n",
    "from mu2e import mu2e_ext_path\n",
    "from mu2e.src.fiteval_c2 import FitFunctionMaker2\n",
    "from mu2e.tools.fiteval import get_mag_field_function\n",
    "from mu2e.dataframeprod import DataFrameMaker\n",
    "from mu2e.mu2eplots import mu2e_plot, mu2e_plot3d\n",
    "%matplotlib inline\n",
    "plt.rcParams['figure.figsize'] = (12,8)\n",
    "from mpl_toolkits.mplot3d import Axes3D\n",
    "import pandas as pd"
   ]
  },
  {
   "cell_type": "code",
   "execution_count": null,
   "metadata": {},
   "outputs": [],
   "source": [
    "ffm= FitFunctionMaker2(\"../mu2e/src/Mau10_800mm_long.csv\")\n",
    "mag_field_function = get_mag_field_function('Mau10_825mm_v1')\n",
    "df = DataFrameMaker(mu2e_ext_path+'datafiles/Mau10/Standard_Maps/Mu2e_DSMap', use_pickle = True).data_frame"
   ]
  },
  {
   "cell_type": "code",
   "execution_count": null,
   "metadata": {},
   "outputs": [],
   "source": [
    "out = ffm.mag_field_function(0,600,7021,True)\n",
    "print out[0], out[1], out[2]\n",
    "out = mag_field_function(0,600,7021,True)\n",
    "print out[0], out[1], out[2]\n",
    "print df.query('X==0 and Y==600 and Z==7021')[['Bx','By','Bz']]\n",
    "print\n",
    "out = ffm.mag_field_function(600,0,7021,True)\n",
    "print out[0], out[1], out[2]\n",
    "out = mag_field_function(600,0,7021,True)\n",
    "print out[0], out[1], out[2]\n",
    "print df.query('X==600 and Y==0 and Z==7021')[['Bx','By','Bz']]\n",
    "#out = ffm.mag_field_function(200,100,6500,True)\n",
    "#print out[0], out[1], out[2]\n",
    "#out = mag_field_function(200,100,6500,True)\n",
    "#print out[0], out[1], out[2]\n"
   ]
  },
  {
   "cell_type": "markdown",
   "metadata": {},
   "source": [
    "Using the field fitting function, generate a set of Bz values for a 1D section in the Z direction."
   ]
  },
  {
   "cell_type": "code",
   "execution_count": null,
   "metadata": {},
   "outputs": [],
   "source": [
    "def bz_func(x,y,z):\n",
    "    return ffm.mag_field_function(x,y,z,True)[2]\n",
    "vbz_func = np.vectorize(bz_func,excluded=['x','y'])\n",
    "\n",
    "def by_func(x,y,z):\n",
    "    return ffm.mag_field_function(x,y,z,True)[1]\n",
    "vby_func = np.vectorize(by_func,excluded=['x','z'])\n",
    "\n",
    "def bx_func(x,y,z):\n",
    "    return ffm.mag_field_function(x,y,z,True)[0]\n",
    "vbx_func = np.vectorize(bx_func,excluded=['y','z'])\n"
   ]
  },
  {
   "cell_type": "code",
   "execution_count": null,
   "metadata": {},
   "outputs": [],
   "source": [
    "zs_1 = np.linspace(7900,8000,101)\n",
    "zs_2 = np.linspace(6800,7200,401)\n",
    "zs_3 = np.linspace(9800,10300,501)\n",
    "zs_4 = np.linspace(5300,5400,101)\n",
    "\n",
    "xs = ys  = np.linspace(100,300,301)"
   ]
  },
  {
   "cell_type": "code",
   "execution_count": null,
   "metadata": {},
   "outputs": [],
   "source": [
    "bzs_1 = vbz_func(x = 0, y = 0, z = zs_1)\n",
    "bzs_2 = vbz_func(x = 0, y = 600, z = zs_2)\n",
    "bzs_3 = vbz_func(x = 0, y = 0, z = zs_3)\n",
    "bzs_4 = vbz_func(x = 0, y = 0, z = zs_4)\n",
    "\n",
    "bxs = vbx_func(x=xs, y=100, z=6500)\n",
    "bys = vby_func(x=100, y=ys, z=6500)"
   ]
  },
  {
   "cell_type": "code",
   "execution_count": null,
   "metadata": {},
   "outputs": [],
   "source": [
    "mu2e_plot3d(df, 'Y', 'Z', 'Bz', 'X==0 and -800<=Y<=800 and 5000<Z<13000', mode='plotly_nb')"
   ]
  },
  {
   "cell_type": "code",
   "execution_count": null,
   "metadata": {},
   "outputs": [],
   "source": [
    "z_grid = zs_1[np.where((zs_1-21)%25==0)]\n",
    "z_grid_i = np.in1d(zs_1,z_grid)\n",
    "bz_grid = bzs_1[z_grid_i]\n",
    "fig, ax1 = plt.subplots()\n",
    "p1 = ax1.plot(zs_1,bzs_1,'b-',linewidth=2,label='Bz field')\n",
    "p1_a = ax1.plot(z_grid,bz_grid,'bo',label='Bz grid')\n",
    "ax1.set_xlabel('Z (mm)')\n",
    "ax1.set_ylabel('T', color='b')\n",
    "for tl in ax1.get_yticklabels():\n",
    "    tl.set_color('b')\n",
    "\n",
    "ax2 = ax1.twinx()\n",
    "scalar = np.cumsum(bzs_1)/1000\n",
    "p2 = ax2.plot(zs_1,scalar,'g-',linewidth=2,label='Scalar Potential')\n",
    "p2_a = ax2.plot([zs_1[0],zs_1[-1]],[scalar[0],scalar[-1]],'g--o',linewidth=2,markersize=10,label='Linear Interp')\n",
    "ax2.set_ylabel('V s/m', color='g')\n",
    "for tl in ax2.get_yticklabels():\n",
    "    tl.set_color('g')\n",
    "plt.title('Bz component and scalar field for X=0,Y=0')\n",
    "lns = p1+p1_a+p2+p2_a\n",
    "labs = [l.get_label() for l in lns]\n",
    "plt.legend(lns, labs, loc=9)\n"
   ]
  },
  {
   "cell_type": "code",
   "execution_count": null,
   "metadata": {},
   "outputs": [],
   "source": [
    "z_grid = zs_2[np.where((zs_2-21)%25==0)]\n",
    "z_grid_i = np.in1d(zs_2,z_grid)\n",
    "bz_grid = bzs_2[z_grid_i]\n",
    "fig, ax1 = plt.subplots()\n",
    "p1 = ax1.plot(zs_2,bzs_2,'b-',linewidth=2,label='Bz field')\n",
    "p1_a = ax1.plot(z_grid,bz_grid,'bo',label='Bz grid')\n",
    "ax1.set_xlabel('Z (mm)')\n",
    "ax1.set_ylabel('T', color='b')\n",
    "for tl in ax1.get_yticklabels():\n",
    "    tl.set_color('b')\n",
    "\n",
    "ax2 = ax1.twinx()\n",
    "scalar = np.cumsum(bzs_2)/1000\n",
    "p2 = ax2.plot(zs_2,scalar,'g-',linewidth=2,label='Scalar Potential')\n",
    "p2_a = ax2.plot([zs_2[0],zs_2[-1]],[scalar[0],scalar[-1]],'g--o',linewidth=2,markersize=10,label='Linear Interp')\n",
    "ax2.set_ylabel('V s/m', color='g')\n",
    "for tl in ax2.get_yticklabels():\n",
    "    tl.set_color('g')\n",
    "plt.title('Bz component and scalar field for X=0,Y=600')\n",
    "lns = p1+p1_a+p2+p2_a\n",
    "labs = [l.get_label() for l in lns]\n",
    "plt.legend(lns, labs, loc=9)"
   ]
  },
  {
   "cell_type": "code",
   "execution_count": null,
   "metadata": {},
   "outputs": [],
   "source": [
    "z_grid = zs_3[np.where((zs_3-21)%25==0)]\n",
    "z_grid_i = np.in1d(zs_3,z_grid)\n",
    "bz_grid = bzs_3[z_grid_i]\n",
    "fig, ax1 = plt.subplots()\n",
    "p1 = ax1.plot(zs_3,bzs_3,'b-',linewidth=2,label='Bz field')\n",
    "p1_a = ax1.plot(z_grid,bz_grid,'bo',label='Bz grid')\n",
    "ax1.set_xlabel('Z (mm)')\n",
    "ax1.set_ylabel('T', color='b')\n",
    "for tl in ax1.get_yticklabels():\n",
    "    tl.set_color('b')\n",
    "\n",
    "ax2 = ax1.twinx()\n",
    "scalar = np.cumsum(bzs_3)/1000\n",
    "p2 = ax2.plot(zs_3,scalar,'g-',linewidth=2,label='Scalar Potential')\n",
    "p2_a = ax2.plot([zs_3[0],zs_3[-1]],[scalar[0],scalar[-1]],'g--o',linewidth=2,markersize=10,label='Linear Interp')\n",
    "ax2.set_ylabel('V s/m', color='g')\n",
    "for tl in ax2.get_yticklabels():\n",
    "    tl.set_color('g')\n",
    "plt.title('Bz component and scalar field for X=0,Y=0')\n",
    "lns = p1+p1_a+p2+p2_a\n",
    "labs = [l.get_label() for l in lns]\n",
    "plt.legend(lns, labs, loc=9)"
   ]
  },
  {
   "cell_type": "code",
   "execution_count": null,
   "metadata": {},
   "outputs": [],
   "source": [
    "z_grid = zs_4[np.where((zs_4-21)%25==0)]\n",
    "z_grid_i = np.in1d(zs_4,z_grid)\n",
    "bz_grid = bzs_4[z_grid_i]\n",
    "fig, ax1 = plt.subplots()\n",
    "p1 = ax1.plot(zs_4,bzs_4,'b-',linewidth=2,label='Bz field')\n",
    "p1_a = ax1.plot(z_grid,bz_grid,'bo',label='Bz grid')\n",
    "ax1.set_xlabel('Z (mm)')\n",
    "ax1.set_ylabel('T', color='b')\n",
    "for tl in ax1.get_yticklabels():\n",
    "    tl.set_color('b')\n",
    "\n",
    "ax2 = ax1.twinx()\n",
    "scalar = np.cumsum(bzs_4)/1000\n",
    "p2 = ax2.plot(zs_4,scalar,'g-',linewidth=2,label='Scalar Potential')\n",
    "p2_a = ax2.plot([zs_4[0],zs_4[-1]],[scalar[0],scalar[-1]],'g--o',linewidth=2,markersize=10,label='Linear Interp')\n",
    "ax2.set_ylabel('V s/m', color='g')\n",
    "for tl in ax2.get_yticklabels():\n",
    "    tl.set_color('g')\n",
    "plt.title('Bz component and scalar field for X=0,Y=0')\n",
    "lns = p1+p1_a+p2+p2_a\n",
    "labs = [l.get_label() for l in lns]\n",
    "plt.legend(lns, labs, loc=9)"
   ]
  },
  {
   "cell_type": "code",
   "execution_count": null,
   "metadata": {},
   "outputs": [],
   "source": [
    "mu2e_plot3d(df, 'X', 'Y', 'Bx', 'R<=800 and Z==6521', mode='plotly_nb')"
   ]
  },
  {
   "cell_type": "code",
   "execution_count": null,
   "metadata": {},
   "outputs": [],
   "source": [
    "x_grid = xs[np.where((xs)%25==0)]\n",
    "x_grid_i = np.in1d(xs,x_grid)\n",
    "bx_grid = bxs[x_grid_i]\n",
    "fig, ax1 = plt.subplots()\n",
    "p1 = ax1.plot(xs,bxs,'b-',linewidth=2,label='Bx field')\n",
    "p1_a = ax1.plot(x_grid,bx_grid,'bo',label='Bx grid')\n",
    "ax1.set_xlabel('X (mm)')\n",
    "ax1.set_ylabel('T', color='b')\n",
    "for tl in ax1.get_yticklabels():\n",
    "    tl.set_color('b')\n",
    "\n",
    "ax2 = ax1.twinx()\n",
    "scalar=np.cumsum(bxs)/1000\n",
    "p2 = ax2.plot(xs,scalar,'g-',linewidth=2,label='Scalar Potential')\n",
    "p2_a = ax2.plot([xs[0],xs[-1]],[scalar[0],scalar[-1]],'g--o',linewidth=2,markersize=10,label='Linear Interp')\n",
    "ax2.set_ylabel('V s/m', color='g')\n",
    "for tl in ax2.get_yticklabels():\n",
    "    tl.set_color('g')\n",
    "plt.title('Bx component and scalar field for Y=100, Z=6500')\n",
    "lns = p1+p1_a+p2+p2_a\n",
    "labs = [l.get_label() for l in lns]\n",
    "plt.legend(lns, labs, loc=9)"
   ]
  },
  {
   "cell_type": "markdown",
   "metadata": {},
   "source": [
    "# 2D scalar plane"
   ]
  },
  {
   "cell_type": "markdown",
   "metadata": {},
   "source": [
    "I will generate the fine grain field measurements in b(1) and b(2) for a single grid slice.  I'll start with the X-Z plane, then check the X-Y plane."
   ]
  },
  {
   "cell_type": "code",
   "execution_count": null,
   "metadata": {},
   "outputs": [],
   "source": [
    "mu2e_plot3d(df, 'X', 'Z', 'Bz', 'Y==0 and -200<=X<=-100 and 9000<Z<9200', mode='plotly_nb')"
   ]
  },
  {
   "cell_type": "code",
   "execution_count": null,
   "metadata": {},
   "outputs": [],
   "source": [
    "mu2e_plot3d(df, 'X', 'Z', 'Bx', 'Y==0 and -200<=X<=-100 and 9000<Z<9200', mode='plotly_nb')"
   ]
  },
  {
   "cell_type": "code",
   "execution_count": null,
   "metadata": {},
   "outputs": [],
   "source": [
    "zs_2d = np.linspace(9021,9046,51)\n",
    "xs_2d = np.linspace(-200,-175,51)\n",
    "vbx_func_z = np.vectorize(bx_func,excluded=['x','y'])"
   ]
  },
  {
   "cell_type": "code",
   "execution_count": null,
   "metadata": {},
   "outputs": [],
   "source": [
    "bzs_edge = vbz_func(x = xs_2d[0], y = 0, z = zs_2d)\n",
    "scalar_2d = [bzs_edge]\n",
    "for x in xs_2d[1:]:\n",
    "    scalar_2d.append(vbx_func_z(x = x, y = 0, z = zs_2d))\n",
    "scalar_2d = np.asarray(scalar_2d)*0.0005\n",
    "scalar_2d[0,:] = np.cumsum(scalar_2d[0,:])\n",
    "scalar_2d = np.cumsum(scalar_2d, axis=0)"
   ]
  },
  {
   "cell_type": "code",
   "execution_count": null,
   "metadata": {},
   "outputs": [],
   "source": [
    "zs_2d"
   ]
  },
  {
   "cell_type": "code",
   "execution_count": null,
   "metadata": {},
   "outputs": [],
   "source": [
    "fig = plt.figure().gca(projection='3d')\n",
    "Xi,Zi = np.meshgrid(xs_2d, zs_2d)\n",
    "fig.plot_surface(Xi,Zi,np.transpose(scalar_2d),rstride=1, cstride=1, cmap=plt.get_cmap('viridis'), linewidth=0, antialiased=False)\n",
    "plt.title('Scalar Field in 2D')\n",
    "plt.xlabel('X (mm)')\n",
    "plt.ylabel('Z (mm)')\n",
    "fig.set_zlabel('Phi (V s/m)')\n",
    "plt.show()"
   ]
  },
  {
   "cell_type": "code",
   "execution_count": null,
   "metadata": {},
   "outputs": [],
   "source": [
    "df_scalar = pd.DataFrame({'X':Xi.flatten(),'Z':Zi.flatten(),'Phi':np.transpose(scalar_2d).flatten()})\n",
    "df_scalar.head()"
   ]
  },
  {
   "cell_type": "code",
   "execution_count": null,
   "metadata": {},
   "outputs": [],
   "source": [
    "print df_scalar[(df_scalar.X==-200) & (df_scalar.Z==9021)]\n",
    "print df_scalar[(df_scalar.X==-175) & (df_scalar.Z==9021)]\n",
    "print df_scalar[(df_scalar.X==-200) & (df_scalar.Z==9046)]\n",
    "print df_scalar[(df_scalar.X==-175) & (df_scalar.Z==9046)]"
   ]
  },
  {
   "cell_type": "markdown",
   "metadata": {},
   "source": [
    "Now we'll do an X-Y plane."
   ]
  },
  {
   "cell_type": "code",
   "execution_count": null,
   "metadata": {},
   "outputs": [],
   "source": [
    "mu2e_plot3d(df, 'X', 'Y', 'Bx', '0<=Y<=100 and -200<=X<=-100 and Z==6021', mode='plotly_nb')"
   ]
  },
  {
   "cell_type": "code",
   "execution_count": null,
   "metadata": {},
   "outputs": [],
   "source": [
    "mu2e_plot3d(df, 'X', 'Y', 'By', '0<=Y<=100 and -200<=X<=-100 and Z==6021', mode='plotly_nb')"
   ]
  },
  {
   "cell_type": "code",
   "execution_count": null,
   "metadata": {},
   "outputs": [],
   "source": [
    "ys_2d = np.linspace(50,75,51)\n",
    "vbx_func_y = np.vectorize(bx_func,excluded=['x','z'])"
   ]
  },
  {
   "cell_type": "code",
   "execution_count": null,
   "metadata": {},
   "outputs": [],
   "source": [
    "bys_edge = vby_func(x = xs_2d[0], y = ys_2d, z = 6021)\n",
    "scalar_2d_xy = [bys_edge]\n",
    "for x in xs_2d[1:]:\n",
    "    scalar_2d_xy.append(vbx_func_y(x = x, y = ys_2d, z = 6021))\n",
    "scalar_2d_xy = np.asarray(scalar_2d_xy)\n",
    "scalar_2d_xy[0,:] = np.cumsum(scalar_2d_xy[0,:])\n",
    "scalar_2d_xy = np.cumsum(scalar_2d_xy, axis=0)/1000"
   ]
  },
  {
   "cell_type": "code",
   "execution_count": null,
   "metadata": {},
   "outputs": [],
   "source": [
    "fig = plt.figure().gca(projection='3d')\n",
    "Xi,Yi = np.meshgrid(xs_2d, ys_2d)\n",
    "fig.plot_surface(Xi,Yi,np.transpose(scalar_2d_xy),rstride=1, cstride=1, cmap=plt.get_cmap('viridis'), linewidth=0, antialiased=False)\n",
    "plt.title('Scalar Field in 2D')\n",
    "plt.xlabel('X (mm)')\n",
    "plt.ylabel('Y (mm)')\n",
    "fig.set_zlabel('Phi (V s/m)')\n",
    "plt.show()"
   ]
  },
  {
   "cell_type": "code",
   "execution_count": null,
   "metadata": {},
   "outputs": [],
   "source": []
  }
 ],
 "metadata": {
  "kernelspec": {
   "display_name": "Python 2",
   "language": "python",
   "name": "python2"
  },
  "language_info": {
   "codemirror_mode": {
    "name": "ipython",
    "version": 2
   },
   "file_extension": ".py",
   "mimetype": "text/x-python",
   "name": "python",
   "nbconvert_exporter": "python",
   "pygments_lexer": "ipython2",
   "version": "2.7.11"
  }
 },
 "nbformat": 4,
 "nbformat_minor": 0
}
